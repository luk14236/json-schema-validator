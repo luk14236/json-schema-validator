{
  "nbformat": 4,
  "nbformat_minor": 0,
  "metadata": {
    "colab": {
      "provenance": []
    },
    "kernelspec": {
      "name": "python3",
      "display_name": "Python 3"
    },
    "language_info": {
      "name": "python"
    }
  },
  "cells": [
    {
      "cell_type": "code",
      "source": [
        "from google.colab import drive\n",
        "from jsonschema import validate, RefResolver\n",
        "from enum import Enum\n",
        "\n",
        "import os\n",
        "import json\n",
        "import jsonschema\n",
        "import urllib.request\n",
        "\n",
        "drive.mount('/content/drive', force_remount = True)"
      ],
      "metadata": {
        "colab": {
          "base_uri": "https://localhost:8080/"
        },
        "id": "3JvWhgZfOTro",
        "outputId": "11bcee10-47de-4311-b6ea-87dca90f4d3f"
      },
      "execution_count": 22,
      "outputs": [
        {
          "output_type": "stream",
          "name": "stderr",
          "text": [
            "<ipython-input-22-83f8ea0bc4ac>:2: DeprecationWarning: jsonschema.RefResolver is deprecated as of v4.18.0, in favor of the https://github.com/python-jsonschema/referencing library, which provides more compliant referencing behavior as well as more flexible APIs for customization. A future release will remove RefResolver. Please file a feature request (on referencing) if you are missing an API for the kind of customization you need.\n",
            "  from jsonschema import validate, RefResolver\n"
          ]
        },
        {
          "output_type": "stream",
          "name": "stdout",
          "text": [
            "Mounted at /content/drive\n"
          ]
        }
      ]
    },
    {
      "cell_type": "code",
      "source": [],
      "metadata": {
        "id": "RRRIWPXW9c1A"
      },
      "execution_count": null,
      "outputs": []
    },
    {
      "cell_type": "code",
      "source": [
        "from google.colab import drive\n",
        "drive.mount('/content/drive')"
      ],
      "metadata": {
        "id": "g9e-8u4DFpbG",
        "colab": {
          "base_uri": "https://localhost:8080/"
        },
        "outputId": "a09c2373-8123-4f65-a7fd-5cc8bbcb2baa"
      },
      "execution_count": 2,
      "outputs": [
        {
          "output_type": "stream",
          "name": "stdout",
          "text": [
            "Drive already mounted at /content/drive; to attempt to forcibly remount, call drive.mount(\"/content/drive\", force_remount=True).\n"
          ]
        }
      ]
    },
    {
      "cell_type": "code",
      "source": [],
      "metadata": {
        "id": "Vnzw-lI54BjO"
      },
      "execution_count": null,
      "outputs": []
    },
    {
      "cell_type": "code",
      "source": [
        "def get_schema(file_path):\n",
        "\n",
        "    if os.path.exists(file_path):\n",
        "        with open(file_path, encoding='utf-8') as fh:\n",
        "          result = json.load(fh)\n",
        "    else:\n",
        "        result = json.loads(urlopen(file_path).read().decode(\"utf-8\"))\n",
        "\n",
        "    return result"
      ],
      "metadata": {
        "id": "GjB4Un4H5QJr"
      },
      "execution_count": 20,
      "outputs": []
    },
    {
      "cell_type": "code",
      "source": [
        "def validate_json(json_data, file_path):\n",
        "    \"\"\"REF: https://json-schema.org/ \"\"\"\n",
        "    execute_api_schema = get_schema(file_path)\n",
        "\n",
        "    print(execute_api_schema)\n",
        "\n",
        "    try:\n",
        "        validate(instance=json_data, schema=execute_api_schema)\n",
        "    except jsonschema.exceptions.ValidationError as err:\n",
        "        print(err)\n",
        "        err = \"Given JSON data is InValid\"\n",
        "        return False, err\n",
        "\n",
        "    message = \"Given JSON data is Valid\"\n",
        "    return True, message"
      ],
      "metadata": {
        "id": "rb4RR8bgOeYr"
      },
      "execution_count": 24,
      "outputs": []
    },
    {
      "cell_type": "code",
      "source": [
        "json_to_validate = {\"name\": \"John Doe\",\"age\": 25,\"address\": {\"street\": \"123 Main St\",\"city\": \"New York\",\"state\": \"NY\",\"postalCode\": \"10001\"},\"hobbies\": [\"reading\", \"running\"]}\n"
      ],
      "metadata": {
        "id": "ARb8inzA47fy"
      },
      "execution_count": 25,
      "outputs": []
    },
    {
      "cell_type": "code",
      "source": [
        "validate_json(json_to_validate, \"/content/example-schema.json\")"
      ],
      "metadata": {
        "colab": {
          "base_uri": "https://localhost:8080/"
        },
        "id": "xqasO6AoD_xK",
        "outputId": "74b5c332-8e02-48da-bef1-650853f04816"
      },
      "execution_count": 26,
      "outputs": [
        {
          "output_type": "stream",
          "name": "stdout",
          "text": [
            "{'$id': 'https://example.com/complex-object.schema.json', '$schema': 'https://json-schema.org/draft/2020-12/schema', 'title': 'Complex Object', 'type': 'object', 'properties': {'name': {'type': 'string'}, 'age': {'type': 'integer', 'minimum': 0}, 'address': {'type': 'object', 'properties': {'street': {'type': 'string'}, 'city': {'type': 'string'}, 'state': {'type': 'string'}, 'postalCode': {'type': 'string', 'pattern': '\\\\d{5}'}}, 'required': ['street', 'city', 'state', 'postalCode']}, 'hobbies': {'type': 'array', 'items': {'type': 'string'}}}, 'required': ['name', 'age']}\n"
          ]
        },
        {
          "output_type": "execute_result",
          "data": {
            "text/plain": [
              "(True, 'Given JSON data is Valid')"
            ]
          },
          "metadata": {},
          "execution_count": 26
        }
      ]
    },
    {
      "cell_type": "code",
      "source": [
        "get_schema(\"/content/example-schema.json\")"
      ],
      "metadata": {
        "id": "CgGtxcUeK3jI",
        "colab": {
          "base_uri": "https://localhost:8080/"
        },
        "outputId": "ed23a24a-8daf-4abf-8b6a-6943dd38baf5"
      },
      "execution_count": 23,
      "outputs": [
        {
          "output_type": "execute_result",
          "data": {
            "text/plain": [
              "{'$id': 'https://example.com/complex-object.schema.json',\n",
              " '$schema': 'https://json-schema.org/draft/2020-12/schema',\n",
              " 'title': 'Complex Object',\n",
              " 'type': 'object',\n",
              " 'properties': {'name': {'type': 'string'},\n",
              "  'age': {'type': 'integer', 'minimum': 0},\n",
              "  'address': {'type': 'object',\n",
              "   'properties': {'street': {'type': 'string'},\n",
              "    'city': {'type': 'string'},\n",
              "    'state': {'type': 'string'},\n",
              "    'postalCode': {'type': 'string', 'pattern': '\\\\d{5}'}},\n",
              "   'required': ['street', 'city', 'state', 'postalCode']},\n",
              "  'hobbies': {'type': 'array', 'items': {'type': 'string'}}},\n",
              " 'required': ['name', 'age']}"
            ]
          },
          "metadata": {},
          "execution_count": 23
        }
      ]
    },
    {
      "cell_type": "code",
      "source": [],
      "metadata": {
        "id": "lY1CbMQ38Qs9"
      },
      "execution_count": null,
      "outputs": []
    }
  ]
}